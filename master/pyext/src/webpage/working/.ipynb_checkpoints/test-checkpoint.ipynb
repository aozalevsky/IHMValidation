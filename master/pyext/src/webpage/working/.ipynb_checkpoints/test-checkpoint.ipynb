{
 "cells": [
  {
   "cell_type": "code",
   "execution_count": 1,
   "metadata": {},
   "outputs": [],
   "source": [
    "import pickle as pk\n",
    "import pandas as pd\n",
    "import requests"
   ]
  },
  {
   "cell_type": "code",
   "execution_count": 2,
   "metadata": {},
   "outputs": [
    {
     "data": {
      "text/plain": [
       "61929"
      ]
     },
     "execution_count": 2,
     "metadata": {},
     "output_type": "execute_result"
    }
   ],
   "source": [
    "path='https://www.sasbdb.org/media/sascif/sascif_files/'\n",
    "\n",
    "url_f=path+'SASDG85.sascif'\n",
    "response=requests.get(url_f);\n",
    "file=open('SASDG85_out.sascif','w')\n",
    "file.write(response.text)\n"
   ]
  },
  {
   "cell_type": "code",
   "execution_count": 3,
   "metadata": {},
   "outputs": [
    {
     "name": "stdout",
     "output_type": "stream",
     "text": [
      "[['data_SASDG85_MAIN'], ['#']]\n"
     ]
    }
   ],
   "source": [
    "path='https://www.sasbdb.org/media/sascif/sascif_files/'\n",
    "\n",
    "file=open('SASDG85_out.sascif','r')\n",
    "all_lines=[]\n",
    "for i,j in enumerate(file.readlines()):\n",
    "    all_lines.append(j.strip().split())\n",
    "print (all_lines[0:2])"
   ]
  },
  {
   "cell_type": "code",
   "execution_count": 10,
   "metadata": {},
   "outputs": [
    {
     "name": "stderr",
     "output_type": "stream",
     "text": [
      "/Users/saijananiganesan/anaconda3/lib/python3.6/site-packages/pandas/core/frame.py:4133: SettingWithCopyWarning: \n",
      "A value is trying to be set on a copy of a slice from a DataFrame\n",
      "\n",
      "See the caveats in the documentation: https://pandas.pydata.org/pandas-docs/stable/user_guide/indexing.html#returning-a-view-versus-a-copy\n",
      "  errors=errors,\n"
     ]
    }
   ],
   "source": [
    "data={}\n",
    "for m,n in enumerate(all_lines):\n",
    "    if len(n)<2 and len(n)>0 and 'scan_intensity' in n[0]:\n",
    "        data[(n[0].split('.')[1])]=[]\n",
    "    #print (n)\n",
    "    if len(n)>2 and len(all_lines[m-1])>0 and 'scan_intensity' in all_lines[m-1][0]:\n",
    "        for i,j in enumerate(all_lines[m:]):\n",
    "            if len(j)>2 and '#' not in j and 'sas' not in j[0] :  \n",
    "                for num,key in enumerate(list(data.keys())):\n",
    "                    data[key].append(j[num])\n",
    "            else:\n",
    "                break\n",
    "                    \n",
    "I_df=pd.DataFrame(list(data.values()),index=list(data.keys())).T\n",
    "I_df_re=I_df[['momentum_transfer','intensity','intensity_su_counting']]\n",
    "I_df_re.rename(columns={'momentum_transfer':'Q','intensity':'I','intensity_su_counting':'E'},inplace=True)"
   ]
  },
  {
   "cell_type": "code",
   "execution_count": 13,
   "metadata": {},
   "outputs": [],
   "source": [
    "I_df_re=I_df_re[I_df_re['I']-I_df_re['E']>0]\n"
   ]
  },
  {
   "cell_type": "code",
   "execution_count": 14,
   "metadata": {},
   "outputs": [
    {
     "name": "stdout",
     "output_type": "stream",
     "text": [
      "            Q          I         E                                       err_y\n",
      "0    0.015330  20.908500  2.998030    (2.8853854580510214, 3.1741516433765202)\n",
      "1    0.015887  20.757400  2.932260     (2.8806098204069635, 3.165038666020425)\n",
      "2    0.016445  20.733400  2.226750       (2.918130126953665, 3.13376010453107)\n",
      "3    0.017002  20.851100  1.815450      (2.946313536874244, 3.120890269435927)\n",
      "4    0.017560  20.138900  1.362430      (2.932604490191116, 3.068114793685454)\n",
      "..        ...        ...       ...                                         ...\n",
      "623  0.364229   0.233083  0.109997  (-2.0948719809351988, -1.0697916228599162)\n",
      "624  0.364786   0.144597  0.112783   (-3.447848834505968, -1.3572016869166184)\n",
      "628  0.367015   0.160383  0.123387  (-3.2969454802901232, -1.2595912280889483)\n",
      "630  0.368129   0.210574  0.131844    (-2.541731001785761, -1.071723066002851)\n",
      "631  0.368686   0.168197  0.133193   (-3.352292938308552, -1.1993501718404922)\n",
      "\n",
      "[621 rows x 4 columns]\n"
     ]
    }
   ],
   "source": [
    "import numpy as np\n",
    "I_df_re=I_df_re.astype({'Q':float,'I':float,'E':float})\n",
    "#I_df['err_x']=I_df.apply(lambda row: (row['Q'],row['Q']), axis=1)\n",
    "\n",
    "I_df_re['err_y']=I_df_re.apply(lambda row: (np.log(row['I']-row['E']),np.log(row['I']+row['E'])),axis=1)\n",
    "print (I_df_re)"
   ]
  },
  {
   "cell_type": "code",
   "execution_count": null,
   "metadata": {},
   "outputs": [],
   "source": [
    "            I_df['err_x']=I_df.apply(lambda row: (row['Q'],row['Q']), axis=1)\n",
    "            print (I_df.head())\n",
    "            I_df['err_y']=I_df.apply(lambda row: (np.log(row['I']-row['E']),np.log(row['I']+row['E'])),axis=1)\n",
    "            I_df['logI']=np.log(I_df['I'])\n",
    "            I_df['logQ']=np.log(I_df['Q'])\n",
    "            I_df['logX']=I_df.apply(lambda row: (row['logQ'],row['logQ']), axis=1)\n",
    "            I_df['Ky']=I_df['Q']*I_df['Q']*I_df['I']\n",
    "            I_df['Px']=I_df['Q']**4\n",
    "            I_df['Px'].round(3)\n",
    "            I_df['Py']=I_df['Px']*I_df['I']\n"
   ]
  },
  {
   "cell_type": "code",
   "execution_count": 5,
   "metadata": {},
   "outputs": [
    {
     "ename": "IndexError",
     "evalue": "list index out of range",
     "output_type": "error",
     "traceback": [
      "\u001b[0;31m---------------------------------------------------------------------------\u001b[0m",
      "\u001b[0;31mIndexError\u001b[0m                                Traceback (most recent call last)",
      "\u001b[0;32m<ipython-input-5-2120a1540fcc>\u001b[0m in \u001b[0;36m<module>\u001b[0;34m\u001b[0m\n\u001b[1;32m      1\u001b[0m \u001b[0mpofr\u001b[0m\u001b[0;34m=\u001b[0m\u001b[0;34m{\u001b[0m\u001b[0;34m}\u001b[0m\u001b[0;34m\u001b[0m\u001b[0;34m\u001b[0m\u001b[0m\n\u001b[1;32m      2\u001b[0m \u001b[0;32mfor\u001b[0m \u001b[0mm\u001b[0m\u001b[0;34m,\u001b[0m\u001b[0mn\u001b[0m \u001b[0;32min\u001b[0m \u001b[0menumerate\u001b[0m\u001b[0;34m(\u001b[0m\u001b[0mall_lines\u001b[0m\u001b[0;34m)\u001b[0m\u001b[0;34m:\u001b[0m\u001b[0;34m\u001b[0m\u001b[0;34m\u001b[0m\u001b[0m\n\u001b[0;32m----> 3\u001b[0;31m     \u001b[0;32mif\u001b[0m \u001b[0mlen\u001b[0m\u001b[0;34m(\u001b[0m\u001b[0mn\u001b[0m\u001b[0;34m)\u001b[0m\u001b[0;34m<\u001b[0m\u001b[0;36m2\u001b[0m \u001b[0;32mand\u001b[0m \u001b[0;34m'sas_p_of_R.'\u001b[0m \u001b[0;32min\u001b[0m \u001b[0mn\u001b[0m\u001b[0;34m[\u001b[0m\u001b[0;36m0\u001b[0m\u001b[0;34m]\u001b[0m\u001b[0;34m:\u001b[0m\u001b[0;34m\u001b[0m\u001b[0;34m\u001b[0m\u001b[0m\n\u001b[0m\u001b[1;32m      4\u001b[0m         \u001b[0mpofr\u001b[0m\u001b[0;34m[\u001b[0m\u001b[0;34m(\u001b[0m\u001b[0mn\u001b[0m\u001b[0;34m[\u001b[0m\u001b[0;36m0\u001b[0m\u001b[0;34m]\u001b[0m\u001b[0;34m.\u001b[0m\u001b[0msplit\u001b[0m\u001b[0;34m(\u001b[0m\u001b[0;34m'.'\u001b[0m\u001b[0;34m)\u001b[0m\u001b[0;34m[\u001b[0m\u001b[0;36m1\u001b[0m\u001b[0;34m]\u001b[0m\u001b[0;34m)\u001b[0m\u001b[0;34m]\u001b[0m\u001b[0;34m=\u001b[0m\u001b[0;34m[\u001b[0m\u001b[0;34m]\u001b[0m\u001b[0;34m\u001b[0m\u001b[0;34m\u001b[0m\u001b[0m\n\u001b[1;32m      5\u001b[0m \u001b[0mprint\u001b[0m \u001b[0;34m(\u001b[0m\u001b[0mpofr\u001b[0m\u001b[0;34m)\u001b[0m\u001b[0;34m\u001b[0m\u001b[0;34m\u001b[0m\u001b[0m\n",
      "\u001b[0;31mIndexError\u001b[0m: list index out of range"
     ]
    }
   ],
   "source": [
    "pofr={}\n",
    "for m,n in enumerate(all_lines):\n",
    "    if len(n)<2 and 'sas_p_of_R.' in n[0]:\n",
    "        pofr[(n[0].split('.')[1])]=[]\n",
    "print (pofr)\n"
   ]
  },
  {
   "cell_type": "code",
   "execution_count": 10,
   "metadata": {},
   "outputs": [
    {
     "data": {
      "text/html": [
       "<div>\n",
       "<style scoped>\n",
       "    .dataframe tbody tr th:only-of-type {\n",
       "        vertical-align: middle;\n",
       "    }\n",
       "\n",
       "    .dataframe tbody tr th {\n",
       "        vertical-align: top;\n",
       "    }\n",
       "\n",
       "    .dataframe thead th {\n",
       "        text-align: right;\n",
       "    }\n",
       "</style>\n",
       "<table border=\"1\" class=\"dataframe\">\n",
       "  <thead>\n",
       "    <tr style=\"text-align: right;\">\n",
       "      <th></th>\n",
       "      <th>R</th>\n",
       "      <th>P</th>\n",
       "      <th>E</th>\n",
       "    </tr>\n",
       "  </thead>\n",
       "  <tbody>\n",
       "    <tr>\n",
       "      <th>0</th>\n",
       "      <td>0.000000E+00</td>\n",
       "      <td>0.000000E+00</td>\n",
       "      <td>0.000000E+00</td>\n",
       "    </tr>\n",
       "    <tr>\n",
       "      <th>1</th>\n",
       "      <td>3.084000E-01</td>\n",
       "      <td>5.127000E-04</td>\n",
       "      <td>5.277000E-05</td>\n",
       "    </tr>\n",
       "    <tr>\n",
       "      <th>2</th>\n",
       "      <td>6.167000E-01</td>\n",
       "      <td>1.309000E-03</td>\n",
       "      <td>9.951000E-05</td>\n",
       "    </tr>\n",
       "    <tr>\n",
       "      <th>3</th>\n",
       "      <td>9.251000E-01</td>\n",
       "      <td>2.386000E-03</td>\n",
       "      <td>1.402000E-04</td>\n",
       "    </tr>\n",
       "    <tr>\n",
       "      <th>4</th>\n",
       "      <td>1.233000E+00</td>\n",
       "      <td>3.743000E-03</td>\n",
       "      <td>1.751000E-04</td>\n",
       "    </tr>\n",
       "    <tr>\n",
       "      <th>...</th>\n",
       "      <td>...</td>\n",
       "      <td>...</td>\n",
       "      <td>...</td>\n",
       "    </tr>\n",
       "    <tr>\n",
       "      <th>223</th>\n",
       "      <td>6.877000E+01</td>\n",
       "      <td>3.922000E-04</td>\n",
       "      <td>6.159000E-04</td>\n",
       "    </tr>\n",
       "    <tr>\n",
       "      <th>224</th>\n",
       "      <td>6.907000E+01</td>\n",
       "      <td>2.009000E-04</td>\n",
       "      <td>4.827000E-04</td>\n",
       "    </tr>\n",
       "    <tr>\n",
       "      <th>225</th>\n",
       "      <td>6.938000E+01</td>\n",
       "      <td>6.869000E-05</td>\n",
       "      <td>3.359000E-04</td>\n",
       "    </tr>\n",
       "    <tr>\n",
       "      <th>226</th>\n",
       "      <td>6.969000E+01</td>\n",
       "      <td>2.378000E-07</td>\n",
       "      <td>1.750000E-04</td>\n",
       "    </tr>\n",
       "    <tr>\n",
       "      <th>227</th>\n",
       "      <td>7.000000E+01</td>\n",
       "      <td>0.000000E+00</td>\n",
       "      <td>0.000000E+00</td>\n",
       "    </tr>\n",
       "  </tbody>\n",
       "</table>\n",
       "<p>228 rows × 3 columns</p>\n",
       "</div>"
      ],
      "text/plain": [
       "                R             P             E\n",
       "0    0.000000E+00  0.000000E+00  0.000000E+00\n",
       "1    3.084000E-01  5.127000E-04  5.277000E-05\n",
       "2    6.167000E-01  1.309000E-03  9.951000E-05\n",
       "3    9.251000E-01  2.386000E-03  1.402000E-04\n",
       "4    1.233000E+00  3.743000E-03  1.751000E-04\n",
       "..            ...           ...           ...\n",
       "223  6.877000E+01  3.922000E-04  6.159000E-04\n",
       "224  6.907000E+01  2.009000E-04  4.827000E-04\n",
       "225  6.938000E+01  6.869000E-05  3.359000E-04\n",
       "226  6.969000E+01  2.378000E-07  1.750000E-04\n",
       "227  7.000000E+01  0.000000E+00  0.000000E+00\n",
       "\n",
       "[228 rows x 3 columns]"
      ]
     },
     "execution_count": 10,
     "metadata": {},
     "output_type": "execute_result"
    }
   ],
   "source": [
    "pofr={}\n",
    "for m,n in enumerate(all_lines):\n",
    "    if len(n)<2 and 'sas_p_of_R.' in n[0]:\n",
    "        pofr[(n[0].split('.')[1])]=[]\n",
    "    if len(n)>2 and 'sas_p_of_R.' in all_lines[m-1][0]:\n",
    "        for i,j in enumerate(all_lines[m:]):\n",
    "            if len(j)>2 and '#' not in j and 'sas' not in j[0] :  \n",
    "                for num,key in enumerate(list(pofr.keys())):\n",
    "                    pofr[key].append(j[num])\n",
    "            else:\n",
    "                break\n",
    "                    \n",
    "I_df=pd.DataFrame(list(pofr.values()),index=list(pofr.keys())).T\n",
    "I_df_re=I_df[['r','P','P_error']]\n",
    "I_df_re.rename(columns={'r':'R','P':'P','P_error':'E'})"
   ]
  },
  {
   "cell_type": "code",
   "execution_count": null,
   "metadata": {},
   "outputs": [],
   "source": []
  },
  {
   "cell_type": "code",
   "execution_count": null,
   "metadata": {},
   "outputs": [],
   "source": []
  },
  {
   "cell_type": "code",
   "execution_count": null,
   "metadata": {},
   "outputs": [],
   "source": [
    "file=open('SASDBV9.sascif','r')\n",
    "intensity=pd.DataFrame(columns=['I','Q','E'])\n",
    "for i,j in enumerate(file.readlines()):\n",
    "    line=j.strip().split()\n",
    "    for m,n in enumerate(line):\n",
    "         data={}\n",
    "        if 'scan_intensity' in n:\n",
    "            data[(n.split('.')[1])]=[]\n",
    "        if len(line)>0 and 'scan_intensity' in line[n-1]:\n",
    "            for a,b in \n"
   ]
  },
  {
   "cell_type": "code",
   "execution_count": null,
   "metadata": {},
   "outputs": [],
   "source": []
  }
 ],
 "metadata": {
  "kernelspec": {
   "display_name": "Python 3",
   "language": "python",
   "name": "python3"
  },
  "language_info": {
   "codemirror_mode": {
    "name": "ipython",
    "version": 3
   },
   "file_extension": ".py",
   "mimetype": "text/x-python",
   "name": "python",
   "nbconvert_exporter": "python",
   "pygments_lexer": "ipython3",
   "version": "3.6.10"
  }
 },
 "nbformat": 4,
 "nbformat_minor": 4
}
